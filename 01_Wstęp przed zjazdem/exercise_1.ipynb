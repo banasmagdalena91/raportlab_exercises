{
 "cells": [
  {
   "cell_type": "markdown",
   "id": "primary-bidding",
   "metadata": {},
   "source": [
    "# Zadanie 1\n",
    "\n",
    "To zadanie ma na celu przetestowanie, czy biblioteka `reportlab` jest zainstalowana. Jeszcze przed zajęciami upewnij się, że wszystko działa prawidłowo, w razie problemów poproś o pomoc mentora."
   ]
  },
  {
   "cell_type": "code",
   "execution_count": 1,
   "id": "sustained-damage",
   "metadata": {},
   "outputs": [],
   "source": [
    "from reportlab.pdfgen import canvas\n",
    "\n",
    "c = canvas.Canvas('test.pdf')\n",
    "c.drawString(250, 500, 'Hello world!')\n",
    "c.save()"
   ]
  },
  {
   "cell_type": "code",
   "execution_count": 2,
   "id": "aff144a8",
   "metadata": {},
   "outputs": [
    {
     "name": "stdout",
     "output_type": "stream",
     "text": [
      "Requirement already satisfied: reportlab in c:\\users\\banas\\anaconda3\\lib\\site-packages (3.6.12)\n",
      "Requirement already satisfied: pillow>=9.0.0 in c:\\users\\banas\\anaconda3\\lib\\site-packages (from reportlab) (9.2.0)\n"
     ]
    }
   ],
   "source": [
    "!pip install reportlab"
   ]
  },
  {
   "cell_type": "code",
   "execution_count": 3,
   "id": "63d2f430",
   "metadata": {},
   "outputs": [],
   "source": [
    "from reportlab.pdfgen import canvas\n",
    "c = canvas.Canvas('kotek.pdf')\n",
    "c.save()"
   ]
  },
  {
   "cell_type": "code",
   "execution_count": 4,
   "id": "a0bb5679",
   "metadata": {},
   "outputs": [
    {
     "data": {
      "text/plain": [
       "['Helvetica', 'Symbol', 'TimesNewRoman', 'ZapfDingbats']"
      ]
     },
     "execution_count": 4,
     "metadata": {},
     "output_type": "execute_result"
    }
   ],
   "source": [
    "from reportlab.pdfbase import pdfmetrics\n",
    "from reportlab.pdfbase.ttfonts import TTFont\n",
    " \n",
    "pdfmetrics.registerFont(TTFont('TimesNewRoman', 'times.ttf'))\n",
    "pdfmetrics.getRegisteredFontNames()"
   ]
  },
  {
   "cell_type": "code",
   "execution_count": 8,
   "id": "ba07d132",
   "metadata": {},
   "outputs": [],
   "source": [
    "from reportlab.pdfgen import canvas\n",
    "from reportlab.pdfbase import pdfmetrics\n",
    "from reportlab.pdfbase.ttfonts import TTFont\n",
    " \n",
    "c = canvas.Canvas('draw_string_example.pdf')\n",
    "pdfmetrics.registerFont(TTFont('TimesNewRoman', 'times.ttf'))\n",
    "c.setFont('TimesNewRoman', 35)\n",
    "c.drawString(50, 100, 'To jest przykładowy tekst.')\n",
    "c.save()"
   ]
  },
  {
   "cell_type": "code",
   "execution_count": 9,
   "id": "3fa2139c",
   "metadata": {},
   "outputs": [],
   "source": [
    "from reportlab.pdfgen import canvas\n",
    "from reportlab.lib.pagesizes import A2\n",
    "from reportlab.pdfbase import pdfmetrics\n",
    "from reportlab.pdfbase.ttfonts import TTFont\n",
    " \n",
    "pdfmetrics.registerFont(TTFont('TimesNewRoman', 'times.ttf'))\n",
    "width, height = A2\n",
    "c = canvas.Canvas('full_PDF.pdf', pagesize=A2)\n",
    " \n",
    "c.setFont('Helvetica', 35)\n",
    "c.drawString(50, height - 50, 'Przykładowy napis 1')\n",
    "c.setFont('TimesNewRoman', 35)\n",
    "c.drawString(150, height - 150, 'Przykładowy napis 2')\n",
    "c.showPage()\n",
    " \n",
    "c.drawString(150, height - 150, 'Przykładowy napis na nowej stronie')\n",
    "c.save()"
   ]
  },
  {
   "cell_type": "code",
   "execution_count": null,
   "id": "28750022",
   "metadata": {},
   "outputs": [],
   "source": []
  }
 ],
 "metadata": {
  "kernelspec": {
   "display_name": "Python 3 (ipykernel)",
   "language": "python",
   "name": "python3"
  },
  "language_info": {
   "codemirror_mode": {
    "name": "ipython",
    "version": 3
   },
   "file_extension": ".py",
   "mimetype": "text/x-python",
   "name": "python",
   "nbconvert_exporter": "python",
   "pygments_lexer": "ipython3",
   "version": "3.9.13"
  }
 },
 "nbformat": 4,
 "nbformat_minor": 5
}
