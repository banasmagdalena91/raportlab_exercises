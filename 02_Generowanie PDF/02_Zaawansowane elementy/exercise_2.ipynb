{
 "cells": [
  {
   "cell_type": "markdown",
   "id": "controlling-hepatitis",
   "metadata": {},
   "source": [
    "Napisz skrypt, który wygeneruje prosty dokument - protokół przekazania sprzętu. Aktualną datę pobierz automatycznie, pozostałe informacje pobierz ze zmiennych zdefiniowanych poniżej. Poszczególne elementy ostyluj wedle własnego uznania. Dokument zapisz jako `protokol.pdf`.\n",
    "\n",
    "Wzór dokumentu:\n",
    "```\n",
    "                                MIEJSCOWOŚĆ, DATA\n",
    "            Protokół przekazania sprzętu\n",
    "\n",
    "Przekazujący:\n",
    "NAZWA FIRMY\n",
    "ADRES FIRMY\n",
    "NIP: ...\n",
    "REGON: ...\n",
    "\n",
    "Odbierający:\n",
    "IMIĘ I NAZWISKO\n",
    "PESEL\n",
    "\n",
    "W dniu DATA zostały przekazane następujące sprzęty:\n",
    "- SPRZĘT 1\n",
    "- SPRZĘT 2\n",
    "- SPRZĘT 3\n",
    "\n",
    "\n",
    "\n",
    "................................\n",
    "Data i podpis przekazującego\n",
    "\n",
    "\n",
    "\n",
    "\n",
    "\n",
    "................................\n",
    "Data i podpis odbierającego\n",
    "```"
   ]
  },
  {
   "cell_type": "code",
   "execution_count": 46,
   "id": "small-mexico",
   "metadata": {},
   "outputs": [],
   "source": [
    "CITY = 'Warszawa'\n",
    "COMPANY_NAME = 'Przykładowa nazwa firmy'\n",
    "COMPANY_ADDRESS = 'Adres firmy'\n",
    "COMPANY_NIP = '9898767654'\n",
    "COMPANY_REGON = '565434321'\n",
    "\n",
    "EMPLOYEE_NAME = 'Jan Kowalski'\n",
    "EMPLOYEE_PESEL = '89122145345'\n",
    "\n",
    "HARDWARE = ['Laptop XYZ ABC o numerze seryjnym: RTY7890', 'Klawiatura', 'Myszka']"
   ]
  },
  {
   "cell_type": "code",
   "execution_count": 47,
   "id": "2aa987ad",
   "metadata": {},
   "outputs": [],
   "source": [
    "from reportlab.lib.pagesizes import A4\n",
    "from reportlab.platypus import SimpleDocTemplate, Paragraph, Spacer, Image,PageBreak\n",
    "from reportlab.lib.styles import getSampleStyleSheet, ParagraphStyle\n",
    "from reportlab.pdfbase import pdfmetrics\n",
    "from reportlab.pdfbase.ttfonts import TTFont\n",
    "import pandas as pd"
   ]
  },
  {
   "cell_type": "code",
   "execution_count": 48,
   "id": "2f5ef8f3",
   "metadata": {},
   "outputs": [],
   "source": [
    "pdfmetrics.registerFont(TTFont('Calibri', 'Calibri.ttf'))\n",
    "\n",
    "FILE_NAME = 'Ex1_advanced_styles2.pdf'\n",
    "doc = SimpleDocTemplate(FILE_NAME,pagesize=A4,rightMargin=72,\n",
    "                        leftMargin=72,topMargin=72,bottomMargin=18)\n",
    "styles=getSampleStyleSheet()"
   ]
  },
  {
   "cell_type": "code",
   "execution_count": 59,
   "id": "e671baab",
   "metadata": {},
   "outputs": [],
   "source": [
    "Story=[]\n",
    "from datetime import date\n",
    "space = Spacer(110,1)\n",
    "Story.append(space)\n",
    "ptext = f'{CITY}, {date.today()}'\n",
    "\n",
    "\n",
    "Story.append(Paragraph(ptext, styles['Normal']))\n",
    "ptext = 'Protokół przekazania sprzętu'\n",
    "Story.append(Paragraph(ptext, styles['Title']))\n",
    " \n",
    "space = Spacer(1, 20)\n",
    "Story.append(space)\n",
    " \n",
    "ptext = f'Przekazujący: '\n",
    "Story.append(Paragraph(ptext, styles['Normal']))\n",
    "ptext = f'{COMPANY_NAME}'\n",
    "Story.append(Paragraph(ptext, styles['Normal']))\n",
    "ptext = f'{COMPANY_ADDRESS}'\n",
    "Story.append(Paragraph(ptext, styles['Normal']))\n",
    "\n",
    "doc.build(Story)"
   ]
  },
  {
   "cell_type": "code",
   "execution_count": null,
   "id": "c8a28036",
   "metadata": {},
   "outputs": [],
   "source": []
  }
 ],
 "metadata": {
  "kernelspec": {
   "display_name": "Python 3 (ipykernel)",
   "language": "python",
   "name": "python3"
  },
  "language_info": {
   "codemirror_mode": {
    "name": "ipython",
    "version": 3
   },
   "file_extension": ".py",
   "mimetype": "text/x-python",
   "name": "python",
   "nbconvert_exporter": "python",
   "pygments_lexer": "ipython3",
   "version": "3.9.13"
  }
 },
 "nbformat": 4,
 "nbformat_minor": 5
}
