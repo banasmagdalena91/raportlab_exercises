{
 "cells": [
  {
   "cell_type": "code",
   "execution_count": 2,
   "id": "b4a8609b",
   "metadata": {},
   "outputs": [],
   "source": [
    "from reportlab.lib.pagesizes import A2\n",
    "from reportlab.platypus import SimpleDocTemplate, Paragraph, Spacer, Image\n",
    "from reportlab.lib.styles import getSampleStyleSheet, ParagraphStyle\n",
    " \n",
    "doc = SimpleDocTemplate(\"story_example.pdf\",pagesize=A2,rightMargin=72,\n",
    "                        leftMargin=72,topMargin=72,bottomMargin=18)\n",
    "Story=[]\n",
    "logo = \"https://upload.wikimedia.org/wikipedia/commons/thumb/c/c3/Python-logo-notext.svg/600px-Python-logo-notext.svg.png\"\n",
    "styles=getSampleStyleSheet()\n",
    " \n",
    "im = Image(logo, 300, 200)\n",
    "Story.append(im)\n",
    "Story.append(Spacer(1, 20))\n",
    " \n",
    "ptext = '<font>Lorem ipsum 1....</font>'\n",
    "Story.append(Paragraph(ptext, styles[\"Title\"]))\n",
    "Story.append(Spacer(1, 12))\n",
    " \n",
    "ptext = '<font>Lorem ipsum 2....</font>'\n",
    "Story.append(Paragraph(ptext, styles[\"Normal\"]))\n",
    "Story.append(Spacer(1, 12))\n",
    "ptext = '<font>Lorem ipsum 3....</font>'\n",
    "Story.append(Paragraph(ptext, styles[\"Italic\"]))\n",
    "Story.append(Spacer(1, 12))\n",
    " \n",
    " \n",
    "ptext = '<font>Lorem ipsum 4....</font>'\n",
    "Story.append(Paragraph(ptext, styles[\"Definition\"]))\n",
    "Story.append(Spacer(1, 12))\n",
    " \n",
    " \n",
    "ptext = '<font>Lorem ipsum 5....</font>'\n",
    "Story.append(Paragraph(ptext, styles[\"Code\"]))\n",
    "Story.append(Spacer(1, 12))\n",
    " \n",
    "doc.build(Story)"
   ]
  },
  {
   "cell_type": "code",
   "execution_count": null,
   "id": "51e0f6a8",
   "metadata": {},
   "outputs": [],
   "source": []
  }
 ],
 "metadata": {
  "kernelspec": {
   "display_name": "Python 3 (ipykernel)",
   "language": "python",
   "name": "python3"
  },
  "language_info": {
   "codemirror_mode": {
    "name": "ipython",
    "version": 3
   },
   "file_extension": ".py",
   "mimetype": "text/x-python",
   "name": "python",
   "nbconvert_exporter": "python",
   "pygments_lexer": "ipython3",
   "version": "3.9.13"
  }
 },
 "nbformat": 4,
 "nbformat_minor": 5
}
