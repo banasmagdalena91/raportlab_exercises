{
 "cells": [
  {
   "cell_type": "markdown",
   "id": "brutal-canyon",
   "metadata": {},
   "source": [
    "W pliku **dane.csv** znajdziesz dane kilku uczniów: imię, nazwisko, płeć, rok urodzenia, lista ocen.\n",
    "\n",
    "Utwórz **jeden** plik `dane.pdf`, w którym każdy z uczniów będzie przedstawiony na osobnej stronie:\n",
    "\n",
    "```\n",
    "[Uczennica/Uczeń - wybierz jedno, na podstawie kolumny \"płeć\"] Imię i nazwisko - nagłówek\n",
    "Rok urodzenia - normalny tekst\n",
    "\n",
    "Oceny: - mniejszy nagłówek\n",
    "Język Polski - 6\n",
    "Język Angielski - 5\n",
    "...\n",
    "```"
   ]
  },
  {
   "cell_type": "code",
   "execution_count": null,
   "id": "constitutional-groove",
   "metadata": {},
   "outputs": [],
   "source": []
  }
 ],
 "metadata": {
  "kernelspec": {
   "display_name": "Python 3 (ipykernel)",
   "language": "python",
   "name": "python3"
  },
  "language_info": {
   "codemirror_mode": {
    "name": "ipython",
    "version": 3
   },
   "file_extension": ".py",
   "mimetype": "text/x-python",
   "name": "python",
   "nbconvert_exporter": "python",
   "pygments_lexer": "ipython3",
   "version": "3.9.13"
  }
 },
 "nbformat": 4,
 "nbformat_minor": 5
}
