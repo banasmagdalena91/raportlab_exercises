{
 "cells": [
  {
   "cell_type": "markdown",
   "id": "orange-shelf",
   "metadata": {},
   "source": [
    "Za pomocą biblioteki `reportlab` wygeneruj PDF ze stroną tytułową raportu:\n",
    "- większym fontem, w 1/3 wysokości strony i z zachowaniem marginesu po lewej stronie umieść tytuł raportu (jeśli nie masz na niego pomysłu, umieść po prostu \"Tytuł Raportu\"),\n",
    "- w 2/3 wysokości strony i z tym samym marginesem co tytuł umieść swoje imię i nazwisko,\n",
    "- tuż poniżej imienia i nazwiska, mniejszym fontem napisz \"Copyright `[ROK]` Nazwa Firmy. Wszelkie prawa zastrzeżone\". Nie wpisuj roku na stałe, zamiast tego pobierz aktualny rok za pomocą modułu `datetime`.\n",
    "\n",
    "Tak jak poprzednio każdy z napisów powinien być utworzony za pomocą osobnego wywołania metody 'drawString'."
   ]
  },
  {
   "cell_type": "code",
   "execution_count": 1,
   "id": "impressed-trout",
   "metadata": {},
   "outputs": [],
   "source": [
    "from reportlab.pdfgen import canvas\n",
    "from reportlab.lib.pagesizes import A2\n",
    "from reportlab.pdfbase import pdfmetrics\n",
    "from reportlab.pdfbase.ttfonts import TTFont"
   ]
  },
  {
   "cell_type": "code",
   "execution_count": 48,
   "id": "b2b868a6",
   "metadata": {},
   "outputs": [],
   "source": [
    "pdfmetrics.registerFont(TTFont('TimesNewRoman', 'times.ttf'))\n",
    "width, height = A2\n",
    "c = canvas.Canvas('raport.pdf', pagesize=A2)\n",
    " \n",
    "c.setFont('TimesNewRoman', 100)\n",
    "c.drawString(100, 2*height/3, \"Tytuł Raportu\")\n",
    "c.setFont('TimesNewRoman', 35)\n",
    "c.drawString(100, height/3, 'Magda Banaś')\n",
    "from datetime import date\n",
    "c.setFont('TimesNewRoman', 20)\n",
    "c.drawString(100, height/3 - 40,  f\"Copyright {date.today().year} Nazwa Firmy. Wszelkie prawa zastrzeżone\")\n",
    "c.save()"
   ]
  },
  {
   "cell_type": "code",
   "execution_count": null,
   "id": "58aae1ab",
   "metadata": {},
   "outputs": [],
   "source": []
  }
 ],
 "metadata": {
  "kernelspec": {
   "display_name": "Python 3 (ipykernel)",
   "language": "python",
   "name": "python3"
  },
  "language_info": {
   "codemirror_mode": {
    "name": "ipython",
    "version": 3
   },
   "file_extension": ".py",
   "mimetype": "text/x-python",
   "name": "python",
   "nbconvert_exporter": "python",
   "pygments_lexer": "ipython3",
   "version": "3.9.13"
  }
 },
 "nbformat": 4,
 "nbformat_minor": 5
}
